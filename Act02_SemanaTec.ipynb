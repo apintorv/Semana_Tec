{
  "nbformat": 4,
  "nbformat_minor": 0,
  "metadata": {
    "colab": {
      "provenance": []
    },
    "kernelspec": {
      "name": "python3",
      "display_name": "Python 3"
    },
    "language_info": {
      "name": "python"
    }
  },
  "cells": [
    {
      "cell_type": "code",
      "source": [
        "#pandas\n",
        "import pandas as pd\n",
        "import matplotlib.pyplot as plt\n",
        "import numpy as np"
      ],
      "metadata": {
        "id": "iSUjNQQrgBE9"
      },
      "execution_count": null,
      "outputs": []
    },
    {
      "cell_type": "code",
      "source": [
        "dt = pd.read_csv(\"ied-inversion-extranjera-actividad-economica-2005-2019.csv\")"
      ],
      "metadata": {
        "id": "-fB2FKr4hyAG"
      },
      "execution_count": null,
      "outputs": []
    },
    {
      "cell_type": "code",
      "source": [
        "#Mostrar numero de columnas y numero de filas\n",
        "dt.info()"
      ],
      "metadata": {
        "colab": {
          "base_uri": "https://localhost:8080/"
        },
        "id": "gAr_-OgYiu9Y",
        "outputId": "f331a1e2-482c-47eb-a647-11af29da725b"
      },
      "execution_count": null,
      "outputs": [
        {
          "output_type": "stream",
          "name": "stdout",
          "text": [
            "<class 'pandas.core.frame.DataFrame'>\n",
            "RangeIndex: 999 entries, 0 to 998\n",
            "Data columns (total 14 columns):\n",
            " #   Column                                                Non-Null Count  Dtype  \n",
            "---  ------                                                --------------  -----  \n",
            " 0   Año                                                   57 non-null     float64\n",
            " 1   Trimestre                                             57 non-null     object \n",
            " 2   Agricultura, Ganadería, Silvicultura, Caza y Pesca    57 non-null     float64\n",
            " 3   Industria Extractiva, Electricidad                    57 non-null     float64\n",
            " 4   Industria manufacturera                               57 non-null     float64\n",
            " 5   Construcción                                          57 non-null     float64\n",
            " 6   Comercio                                              57 non-null     float64\n",
            " 7   Restaurantes y alojamiento                            57 non-null     float64\n",
            " 8   Transportes, comunicaciones, correo y almacenamiento  57 non-null     float64\n",
            " 9   Servicios profesionales, financieros y corporativos   57 non-null     float64\n",
            " 10  Servicios sociales                                    57 non-null     float64\n",
            " 11  Servicios diversos                                    57 non-null     float64\n",
            " 12  Gobierno y organismos internacionales                 57 non-null     float64\n",
            " 13  No especificado                                       57 non-null     float64\n",
            "dtypes: float64(13), object(1)\n",
            "memory usage: 109.4+ KB\n"
          ]
        }
      ]
    },
    {
      "cell_type": "code",
      "source": [
        "#estadisticas\n",
        "media = dt.mean()\n",
        "print(media)"
      ],
      "metadata": {
        "id": "x9pv5nLPjMCq",
        "colab": {
          "base_uri": "https://localhost:8080/"
        },
        "outputId": "b002a867-9130-43d5-f930-02ee01c5aada"
      },
      "execution_count": null,
      "outputs": [
        {
          "output_type": "stream",
          "name": "stdout",
          "text": [
            "Año                                                       2011.631579\n",
            "Agricultura, Ganadería, Silvicultura, Caza y Pesca      306105.561404\n",
            "Industria Extractiva, Electricidad                       12224.456140\n",
            "Industria manufacturera                                 612987.210526\n",
            "Construcción                                            258467.543860\n",
            "Comercio                                                701738.964912\n",
            "Restaurantes y alojamiento                              259692.368421\n",
            "Transportes, comunicaciones, correo y almacenamiento    131751.052632\n",
            "Servicios profesionales, financieros y corporativos     232135.105263\n",
            "Servicios sociales                                      251327.122807\n",
            "Servicios diversos                                      367316.824561\n",
            "Gobierno y organismos internacionales                   117399.543860\n",
            "No especificado                                          13852.473684\n",
            "dtype: float64\n"
          ]
        },
        {
          "output_type": "stream",
          "name": "stderr",
          "text": [
            "<ipython-input-11-2b481d23818f>:2: FutureWarning: The default value of numeric_only in DataFrame.mean is deprecated. In a future version, it will default to False. In addition, specifying 'numeric_only=None' is deprecated. Select only valid columns or specify the value of numeric_only to silence this warning.\n",
            "  media = dt.mean()\n"
          ]
        }
      ]
    },
    {
      "cell_type": "code",
      "source": [
        "mediana = dt.median()\n",
        "print(mediana)"
      ],
      "metadata": {
        "id": "dV3mcX5PjP2H",
        "outputId": "f4c193b4-691f-4c3e-d5ff-4ee24edd7c28",
        "colab": {
          "base_uri": "https://localhost:8080/"
        }
      },
      "execution_count": null,
      "outputs": [
        {
          "output_type": "stream",
          "name": "stdout",
          "text": [
            "Año                                                       2012.0\n",
            "Agricultura, Ganadería, Silvicultura, Caza y Pesca      307985.0\n",
            "Industria Extractiva, Electricidad                       12045.0\n",
            "Industria manufacturera                                 604364.0\n",
            "Construcción                                            256376.0\n",
            "Comercio                                                713142.0\n",
            "Restaurantes y alojamiento                              255826.0\n",
            "Transportes, comunicaciones, correo y almacenamiento    128793.0\n",
            "Servicios profesionales, financieros y corporativos     235673.0\n",
            "Servicios sociales                                      248205.0\n",
            "Servicios diversos                                      370538.0\n",
            "Gobierno y organismos internacionales                   117243.0\n",
            "No especificado                                          12889.0\n",
            "dtype: float64\n"
          ]
        },
        {
          "output_type": "stream",
          "name": "stderr",
          "text": [
            "<ipython-input-12-58855bfd55dd>:1: FutureWarning: The default value of numeric_only in DataFrame.median is deprecated. In a future version, it will default to False. In addition, specifying 'numeric_only=None' is deprecated. Select only valid columns or specify the value of numeric_only to silence this warning.\n",
            "  mediana = dt.median()\n"
          ]
        }
      ]
    },
    {
      "cell_type": "code",
      "source": [
        "desviacion = dt.std()\n",
        "print(desviacion)"
      ],
      "metadata": {
        "id": "X2O3TxpFjRco",
        "outputId": "36e0c0ce-6985-4952-f113-d5fdb0f6868d",
        "colab": {
          "base_uri": "https://localhost:8080/"
        }
      },
      "execution_count": null,
      "outputs": [
        {
          "output_type": "stream",
          "name": "stdout",
          "text": [
            "Año                                                         4.151728\n",
            "Agricultura, Ganadería, Silvicultura, Caza y Pesca      27208.877127\n",
            "Industria Extractiva, Electricidad                       3362.255700\n",
            "Industria manufacturera                                 43526.369520\n",
            "Construcción                                            26712.068479\n",
            "Comercio                                                49599.149009\n",
            "Restaurantes y alojamiento                              44750.399604\n",
            "Transportes, comunicaciones, correo y almacenamiento    17816.135220\n",
            "Servicios profesionales, financieros y corporativos     51188.326529\n",
            "Servicios sociales                                      30953.747353\n",
            "Servicios diversos                                      31671.676042\n",
            "Gobierno y organismos internacionales                    8382.351925\n",
            "No especificado                                          4871.590145\n",
            "dtype: float64\n"
          ]
        },
        {
          "output_type": "stream",
          "name": "stderr",
          "text": [
            "<ipython-input-13-9d875b4d858a>:1: FutureWarning: The default value of numeric_only in DataFrame.std is deprecated. In a future version, it will default to False. In addition, specifying 'numeric_only=None' is deprecated. Select only valid columns or specify the value of numeric_only to silence this warning.\n",
            "  desviacion = dt.std()\n"
          ]
        }
      ]
    }
  ]
}